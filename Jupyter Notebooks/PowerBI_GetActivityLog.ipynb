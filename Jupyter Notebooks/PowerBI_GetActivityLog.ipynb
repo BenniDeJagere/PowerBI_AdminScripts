﻿{
    "metadata": {
        "kernelspec": {
            "name": "powershell",
            "display_name": "PowerShell",
            "language": "powershell"
        },
        "language_info": {
            "name": "powershell",
            "codemirror_mode": "shell",
            "mimetype": "text/x-sh",
            "file_extension": ".ps1"
        }
    },
    "nbformat_minor": 2,
    "nbformat": 4,
    "cells": [
        {
            "cell_type": "markdown",
            "source": [
                "# Power BI - ActivityLog\n",
                "This notebook essentially does the same as the PowerBI - GetActivityLog (Simple) notebook, but with extra guardrails in place for logging and potential issues.   \n",
                "This is a more robust version that can be adapted for your own needs.\n",
                "This notebook has a hard dependency on the Power BI MGMT cmdlets, install the modules if needed  \n",
                "Visit the URL below to get the latest package (and installation commands).\n",
                "[https://www.powershellgallery.com/packages/MicrosoftPowerBIMgmt](https://www.powershellgallery.com/packages/MicrosoftPowerBIMgmt)"
            ],
            "metadata": {
                "azdata_cell_guid": "d7c0e4b7-2203-4b38-a9a4-2146bb1b8731"
            }
        },
        {
            "cell_type": "markdown",
            "source": [
                "## Set up variables for further use in the scripts"
            ],
            "metadata": {
                "azdata_cell_guid": "7a9554cc-3c39-4cd2-8a7e-b77864093dfa"
            }
        },
        {
            "cell_type": "code",
            "source": [
                "#Number of Days for which to collect ActivityLogs, interpret as From (MaxDays)..To(MinDays), in iterations of 1 day\r\n",
                "$MaxDays = 1\r\n",
                "$MinDays = 1\r\n",
                "\r\n",
                "#Basepath to store output files\r\n",
                "$Path = \"C:\\Temp\\PBIAdmin\\ssbi\\\"\r\n",
                "\r\n",
                "#Change to \"SPN\" when using Service Principal to authenticate, make sure to fill in the first variables at the Authentication part\r\n",
                "$AuthMode = \"Login\" \r\n",
                "\r\n",
                "#Printing variables to cell output, so you can verify the last output for the last execution later on\r\n",
                "$MaxDays\r\n",
                "$MinDays\r\n",
                "$Path\r\n",
                "$AuthMode"
            ],
            "metadata": {
                "azdata_cell_guid": "e609f730-d707-4478-b90c-ea1cd0d3cc40"
            },
            "outputs": [
{
    "name": "stdout",
    "text": "1\n1\nC:\\Temp\\PBIAdmin\\ssbi\\\nLogin\n",
    "output_type": "stream"
}
],
            "execution_count": 1
        },
        {
            "cell_type": "markdown",
            "source": [
                "## PrintPSLog Function\n",
                "\n",
                "The function below is used to supply a reusable log format for multiple actions we can determine ourselves. In this case it only outputs data to the log window, but it can also be used to write data to a file or SQL Database (if you add that code yourself).  \n",
                "Not executing this function will cause all the others cmdlets to fail due to an unknown cmdlet."
            ],
            "metadata": {
                "azdata_cell_guid": "7b9fd830-1901-47e2-a176-2276c32ad095"
            }
        },
        {
            "cell_type": "code",
            "source": [
                "function PrintPsLog() { \r\n",
                "    Param \r\n",
                "    (                            \r\n",
                "          [parameter(Mandatory = $True)] [ValidateSet ('ACTION', 'ERROR', 'PRESENT' , 'SUCCESS', 'WARNING',  'INFO' ) ][string]$LogStatus                    \r\n",
                "        , [Parameter(Mandatory = $True)][String]$LogDescription   \r\n",
                "    )   \r\n",
                "      \r\n",
                "    $DateNow = Get-Date -Format 'dd/MM/yyyy hh:mm:ss:ff'\r\n",
                "    switch ($LogStatus) {\r\n",
                "        \"ACTION\" {\r\n",
                "            Write-Host \"$DateNow > $LogStatus  > $LogDescription\" -ForegroundColor Cyan                                                                 \r\n",
                "        }\r\n",
                "        \"ERROR\" {\r\n",
                "            Write-Host \"$DateNow > $LogStatus   > $LogDescription\" -ForegroundColor Red                  \r\n",
                "        }\r\n",
                "        \"PRESENT\" {\r\n",
                "            Write-Host \"$DateNow > $LogStatus > $LogDescription\" -ForegroundColor Gray   \r\n",
                "        }\r\n",
                "        \"SUCCESS\" {\r\n",
                "            Write-Host \"$DateNow > $LogStatus > $LogDescription\" -ForegroundColor Green   \r\n",
                "        }\r\n",
                "        \"WARNING\" {\r\n",
                "            Write-Host \"$DateNow > $LogStatus > $LogDescription\"  -ForegroundColor Yellow                  \r\n",
                "        }\r\n",
                "        \"INFO\" {                \r\n",
                "            Write-Host \"$DateNow > $LogStatus    > $LogDescription\" -ForegroundColor Yellow   \r\n",
                "        }            \r\n",
                "    }\r\n",
                "}\n",
                "\n",
                "PrintPsLog -LogStatus \"INFO\" -LogDescription \"Finished declaring PSLog Function\""
            ],
            "metadata": {
                "azdata_cell_guid": "fd1f42b7-27f7-496c-a216-c318b4c71991"
            },
            "outputs": [
{
    "name": "stdout",
    "text": "13/04/2021 10:18:39:69 > INFO    > Finished declaring PSLog Function\n",
    "output_type": "stream"
}
],
            "execution_count": 3
        },
        {
            "cell_type": "markdown",
            "source": [
                "## Authenticating to the Power BI Service\n",
                "\n",
                "Authentication for this script can be done in 2 ways, and possibly even more (but you'd have to make the changes yourselves).\n",
                "\n",
                "### **Connect through a Service Principal**\n",
                "\n",
                "For an unattended version of this script, we need to authenticate through Service Principal. This requires some setup, which is described in the following MSFT Docs page.  \n",
                "[https://docs.microsoft.com/en-us/azure/active-directory/develop/howto-create-service-principal-portal](https://docs.microsoft.com/en-us/azure/active-directory/develop/howto-create-service-principal-portal) \n",
                "\n",
                "If you have completed the setup, refer to the ApplicationID, TenantID, and Secret to populate the next variables for usage.  \n",
                "Please note that the App Registration will require the Tenant.ReadAll permissions\n",
                "\n",
                "![](data:image/png;base64,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)\n",
                "\n",
                "### **Connect through a user**\n",
                "\n",
                "When you've not configured the App Registration to use a Service Principal, you can always connect through the basic command, using a username and password.   \n",
                "This will not allow you to run this script unattended, as I'm assuming some form of MFA will be enforced.\n",
                "\n",
                "After running this command, you'll be authenticated to your tenant, under these credentials.  \n",
                "The user will need to have the Power BI Service Administrator Role assigned to him, in order to successfully extract details from the ActivityLog"
            ],
            "metadata": {
                "azdata_cell_guid": "9ce37a9a-479f-46e5-8502-215fdafc9638"
            }
        },
        {
            "cell_type": "code",
            "source": [
                "#Establish Connection to Power BI\r\n",
                "if ($AuthMode -eq \"SPN\")\r\n",
                "{\r\n",
                "    #When using \"SPN\" as $AuthMode, make sure these variables are filled in correctly, to authenticate unattended\r\n",
                "    $TenantID = 'InsertTenantGUIDHere' #GUID for the current tenant\r\n",
                "    $ApplicationID = 'InserApplicationGUIDHere' #GUID for the App Registration Application ID\r\n",
                "    $Secret = 'InsertSecretHere' #Client Secret for the App Registration SPN\r\n",
                "    \r\n",
                "    # Prepare variables for session connection. Needs to be replaced with Certificate authentication\r\n",
                "    $Password = ConvertTo-SecureString $Secret -AsPlainText -Force\r\n",
                "    $Credential = New-Object PSCredential $ApplicationID, $password\r\n",
                "\r\n",
                "    # Connect to Power BI with credential of Power BI Service Administrator / Service Principal\r\n",
                "    # When using an SPN you have to provide the TenantID, as defaulting to MyOrg will not work\r\n",
                "    try {\r\n",
                "        PrintPsLog -LogStatus \"ACTION\" -LogDescription \"Connecting to PowerBI - Connect-PowerBIServiceAccount with SPN\"\r\n",
                "        $Connection = Connect-PowerBIServiceAccount -ServicePrincipal -Credential $Credential -Tenant $TenantID\r\n",
                "        if ($Connection) {\r\n",
                "            PrintPsLog -LogStatus \"SUCCESS\" -LogDescription \"Connection to PowerBI successful - Connect-PowerBIServiceAccount with SPN\"\r\n",
                "        } else {\r\n",
                "        PrintPsLog -LogStatus \"ERROR\" -LogDescription \"Connection to PowerBI failed - Connect-PowerBIServiceAccount with SPN\"\r\n",
                "        }\r\n",
                "    } catch {\r\n",
                "    PrintPsLog -LogStatus \"ERROR\" -LogDescription \"Connection to PowerBI failed - Connect-PowerBIServiceAccount with SPN\"\r\n",
                "    }\r\n",
                "}\r\n",
                "elseif ($AuthMode -eq \"Login\")\r\n",
                "{\r\n",
                "    #When not using SPN, log in through the statement below\r\n",
                "    try {\r\n",
                "        PrintPsLog -LogStatus \"ACTION\" -LogDescription \"Connecting to PowerBI - Connect-PowerBIServiceAccount through dialog\"\r\n",
                "        $Connection = Connect-PowerBIServiceAccount\r\n",
                "        if ($Connection) {\r\n",
                "            PrintPsLog -LogStatus \"SUCCESS\" -LogDescription \"Connection to PowerBI succesvol - Connect-PowerBIServiceAccount through dialog\"\r\n",
                "        } else {\r\n",
                "        PrintPsLog -LogStatus \"ERROR\" -LogDescription \"Connection to PowerBI failed - Connect-PowerBIServiceAccount through dialog\"\r\n",
                "        }\r\n",
                "    } catch {\r\n",
                "    PrintPsLog -LogStatus \"ERROR\" -LogDescription \"Connectie to PowerBI failed - Connect-PowerBIServiceAccount through dialog\"\r\n",
                "    }\r\n",
                "}\r\n",
                "else\r\n",
                "{\r\n",
                "    PrintPsLog -LogStatus \"ERROR\" -LogDescription \"Connection to PowerBI failed - Please provide SPN or Login as a parameter to the AuthMode parameter\"\r\n",
                "}\n",
                "\n",
                "PrintPsLog -LogStatus \"INFO\" -LogDescription \"Finished authentication logic\""
            ],
            "metadata": {
                "azdata_cell_guid": "5df621cc-81cf-433f-b94b-ea3586ac0665",
                "tags": []
            },
            "outputs": [
{
    "name": "stdout",
    "text": "13/04/2021 10:18:53:67 > ACTION  > Connecting to PowerBI - Connect-PowerBIServiceAccount through dialog\n",
    "output_type": "stream"
}, {
    "name": "stdout",
    "text": "13/04/2021 10:19:00:57 > SUCCESS > Connection to PowerBI succesvol - Connect-PowerBIServiceAccount through dialog\n13/04/2021 10:19:00:57 > INFO    > Finished authentication logic\n",
    "output_type": "stream"
}
],
            "execution_count": 4
        },
        {
            "cell_type": "markdown",
            "source": [
                "## Extraction of the ActivityLogs\n",
                "[https://docs.microsoft.com/en-us/rest/api/power-bi/admin/getactivityevents](https://docs.microsoft.com/en-us/rest/api/power-bi/admin/getactivityevents)\n",
                "In this example, we loop through the ActivityLog per full day, up until the last completed day (so usually yesterday). The API allows for a finer control using timestamps, but other than getting events since last midnight, there's no valid reason to do so. We'd only be introducing more overhead and API calls, risking throtthling of our requests."
            ],
            "metadata": {
                "azdata_cell_guid": "48f70093-85ce-4d4c-99d1-c29741ae077c"
            }
        },
        {
            "cell_type": "code",
            "source": [
                "#MaxDays..MinDays, loops over as an array over every object\r\n",
                "$MaxDays..$MinDays |\r\n",
                "ForEach-Object {\r\n",
                "    $Date = (((Get-Date).Date).AddDays(-$_))\r\n",
                "\r\n",
                "    # -Format needs to be used, API only accepts a certain datetime format\r\n",
                "    $StartDate = (Get-Date -Date ($Date) -Format yyyy-MM-ddTHH:mm:ss)\r\n",
                "    $EndDate = (Get-Date -Date ((($Date).AddDays(1)).AddMilliseconds(-1)) -Format yyyy-MM-ddTHH:mm:ss)\r\n",
                "\r\n",
                "    PrintPsLog -LogStatus \"ACTION\" -LogDescription \"Collecting activities for $StartDate until $EndDate\"\r\n",
                "    \r\n",
                "    #Create an empty array to hold all records for the current day in context\r\n",
                "    $activities = @()        \r\n",
                "    \r\n",
                "    #Initiate the first call to the API, the field continuationURI will be used to use the same session for the next batch of results\r\n",
                "    $auditlogs = Invoke-PowerBIRestMethod -Url \"https://api.powerbi.com/v1.0/myorg/admin/activityevents?startDateTime='$StartDate'&endDateTime='$EndDate'\" -Method Get | ConvertFrom-Json\r\n",
                "    $activities += $auditlogs.activityEventEntities\r\n",
                "\r\n",
                "    #When continuationUri is NULL (blank), all records for the current day in context have been retrieved\r\n",
                "    if($auditlogs.continuationUri) {\r\n",
                "        do {\r\n",
                "            $auditlogs = Invoke-PowerBIRestMethod -Url $auditlogs.continuationUri -Method Get | ConvertFrom-Json\r\n",
                "            $activities += $auditlogs.activityEventEntities\r\n",
                "        } until(-not $auditlogs.continuationUri)    \r\n",
                "    }\r\n",
                "    \r\n",
                "    #Only select the fields we currently need, to avoid breaking metadata in the steps further down the process (Compare it to why we don't do SELECT * in T-SQL)\r\n",
                "    $selectedActivities = $activities | Select-Object Id, RecordType, CreationTime, Operation, OrganizationId, UserType, UserKey, Workload, UserId, ClientIP, UserAgent, \r\n",
                "            Activity, ItemName, WorkspaceName, DashboardName, DatasetName, ReportName, CapacityId, CapacityName, WorkspaceId, \r\n",
                "            ObjectId, DashboardId, DatasetId, ReportId, IsSuccess, ReportType, RequestId, ActivityId, DistributionMethod, \r\n",
                "            ConsumptionMethod, DataflowName, DataflowId, OrgAppPermission \r\n",
                "    \r\n",
                "    #Create the filename for current Day in context, and export the results to a .csv file\r\n",
                "    $fileName = \"$(Get-Date -Date $Date -Format yyyyMMdd).csv\"\r\n",
                "    $filePath = \"$($Path)$($fileName)\"\r\n",
                "\r\n",
                "    $selectedActivities | Export-Csv -Path $filePath -NoTypeInformation -Encoding UTF8 -Force\r\n",
                "\r\n",
                "    #Collect the resultset count, to report back to the output\r\n",
                "    $activitiesCount = $activities.count\r\n",
                "    if ($activities.count -gt 0) {\r\n",
                "    PrintPsLog -LogStatus \"SUCCESS\" -LogDescription \"Collected $activitiesCount activities for $Date\"\r\n",
                "    } \r\n",
                "    else {\r\n",
                "       PrintPsLog -LogStatus \"ERROR\" -LogDescription \"No activities found in Activity Logs for $Date\"\r\n",
                "    }\r\n",
                "}\r\n",
                "\r\n",
                "PrintPsLog -LogStatus \"INFO\" -LogDescription \"Finished collecting activities\""
            ],
            "metadata": {
                "azdata_cell_guid": "3986b73c-c301-4045-bb7b-292fa52b1416"
            },
            "outputs": [
{
    "name": "stdout",
    "text": "13/04/2021 10:19:13:85 > ACTION  > Collecting activities for 2021-04-12T00:00:00 until 2021-04-12T23:59:59\n",
    "output_type": "stream"
}, {
    "name": "stdout",
    "text": "13/04/2021 10:19:45:13 > SUCCESS > Collected 48 activities for 04/12/2021 00:00:00\n13/04/2021 10:19:45:14 > INFO    > Finished collecting activities\n",
    "output_type": "stream"
}
],
            "execution_count": 5
        },
        {
            "cell_type": "markdown",
            "source": [
                "## Alternate Logic\n",
                "\n",
                "Alternatively the cell below can be used to execute the same logic.   \n",
                "The reason for me using the cell above as my first choice, is that I had inexplicable errors with the PowerShell cmdlet when running on an administrative remote machine.   \n",
                "Most likely something to do with the specific environment, but we never found out the root cause. Hence, I rewrote the script to use the native API call instead. \n",
                "\n",
                "I expect a 99.99999% chance to the PowerShell cmdlet will work for you, given you've checked all the prerequisites"
            ],
            "metadata": {
                "azdata_cell_guid": "fadf3774-6724-4e58-bdb4-e146b4784b85"
            }
        },
        {
            "cell_type": "code",
            "source": [
                "#MaxDays..MinDays, loops over as an array over every object\r\n",
                "$MaxDays..$MinDays |\r\n",
                "ForEach-Object {\r\n",
                "    $Date = (((Get-Date).Date).AddDays(-$_))\r\n",
                "\r\n",
                "    # -Format needs to be used, API only accepts a certain datetime format\r\n",
                "    $StartDate = (Get-Date -Date ($Date) -Format yyyy-MM-ddTHH:mm:ss)\r\n",
                "    $EndDate = (Get-Date -Date ((($Date).AddDays(1)).AddMilliseconds(-1)) -Format yyyy-MM-ddTHH:mm:ss)\r\n",
                "\r\n",
                "    PrintPsLog -LogStatus \"ACTION\" -LogDescription \"Collecting activities for $StartDate until $EndDate\"\r\n",
                "    \r\n",
                "    #Load activities into a PowerShell Object\r\n",
                "    $activities = Get-PowerBIActivityEvent -StartDateTime $StartDate -EndDateTime $EndDate -ResultType JsonString | ConvertFrom-Json\r\n",
                "    \r\n",
                "    #Only select the fields we currently need, to avoid breaking metadata in the steps further down the process (Compare it to why we don't do SELECT * in T-SQL)\r\n",
                "    $selectedActivities = $activities | Select-Object Id, RecordType, CreationTime, Operation, OrganizationId, UserType, UserKey, Workload, UserId, ClientIP, UserAgent, \r\n",
                "            Activity, ItemName, WorkspaceName, DashboardName, DatasetName, ReportName, CapacityId, CapacityName, WorkspaceId, \r\n",
                "            ObjectId, DashboardId, DatasetId, ReportId, IsSuccess, ReportType, RequestId, ActivityId, DistributionMethod, \r\n",
                "            ConsumptionMethod, DataflowName, DataflowId, OrgAppPermission \r\n",
                "    \r\n",
                "    #Create the filename for current Day in context, and export the results to a .csv file\r\n",
                "    $fileName = \"$(Get-Date -Date $Date -Format yyyyMMdd).csv\"\r\n",
                "    $filePath = \"$($Path)$($fileName)\"\r\n",
                "\r\n",
                "    $selectedActivities | Export-Csv -Path $filePath -NoTypeInformation -Encoding UTF8 -Force\r\n",
                "\r\n",
                "    #Collect the resultset count, to report back to the output\r\n",
                "    $activitiesCount = $activities.count\r\n",
                "    if ($activities.count -gt 0) {\r\n",
                "    PrintPsLog -LogStatus \"SUCCESS\" -LogDescription \"Collected $activitiesCount activities for $Date\"\r\n",
                "    } \r\n",
                "    else {\r\n",
                "       PrintPsLog -LogStatus \"ERROR\" -LogDescription \"No activities found in Activity Logs for $Date\"\r\n",
                "    }\r\n",
                "}\n",
                "\n",
                "PrintPsLog -LogStatus \"INFO\" -LogDescription \"Finished collecting activities\""
            ],
            "metadata": {
                "azdata_cell_guid": "613bc79b-4d6b-40a9-9d64-0716a5b6869a",
                "tags": []
            },
            "outputs": [
{
    "name": "stdout",
    "text": "12/04/2021 08:50:18:62 > SUCCESS > Collected 2208 activities for 04/11/2021 00:00:00\n12/04/2021 08:50:18:62 > INFO    > Finished collecting activities\n. {\n>> #MaxDays..MinDays, loops over as an array over every object\n>> $MaxDays..$MinDays |\n>> ForEach-Object {\n>>     $Date = (((Get-Date).Date).AddDays(-$_))\n>> \n>>     # -Format needs to be used, API only accepts a certain datetime format\n>>     $StartDate = (Get-Date -Date ($Date) -Format yyyy-MM-ddTHH:mm:ss)\n>>     $EndDate = (Get-Date -Date ((($Date).AddDays(1)).AddMilliseconds(-1)) -Format yyyy-MM-ddTHH:mm:ss)\n>> \n>>     PrintPsLog -LogStatus \"ACTION\" -LogDescription \"Collecting activities for $StartDate until $EndDate\"\n>>     \n>>     #Create an empty array to hold all records for the current day in context\n>>     $activities = Get-PowerBIActivityEvent -StartDateTime $StartDate -EndDateTime $EndDate -ResultType JsonString | ConvertFrom-Json\n>>     \n>>     #Only select the fields we currently need, to avoid breaking metadata in the steps further down the process (Compare it to why we don't do SELECT * in T-SQL)\n>>     $selectedActivities = $activities | Select-Object Id, RecordType, CreationTime, Operation, OrganizationId, UserType, UserKey, Workload, UserId, ClientIP, UserAgent, \n>>             Activity, ItemName, WorkspaceName, DashboardName, DatasetName, ReportName, CapacityId, CapacityName, WorkspaceId, \n>>             ObjectId, DashboardId, DatasetId, ReportId, IsSuccess, ReportType, RequestId, ActivityId, DistributionMethod, \n>>             ConsumptionMethod, DataflowName, DataflowId, OrgAppPermission \n>>     \n>>     #Create the filename for current Day in context, and export the results to a .csv file\n>>     $fileName = \"$(Get-Date -Date $Date -Format yyyyMMdd).csv\"\n>>     $filePath = \"$($Path)$($fileName)\"\n>> \n>>     $selectedActivities | Export-Csv -Path $filePath -NoTypeInformation -Encoding UTF8 -Force\n>> \n>>     #Collect the resultset count, to report back to the output\n>>     $activitiesCount = $activities.count\n>>     if ($activities.count -gt 0) {\n>>     PrintPsLog -LogStatus \"SUCCESS\" -LogDescription \"Collected $activitiesCount activities for $Date\"\n>>     } \n>>     else {\n>>        PrintPsLog -LogStatus \"ERROR\" -LogDescription \"No activities found in Activity Logs for $Date\"\n>>     }\n>> }\n>> \n>> PrintPsLog -LogStatus \"INFO\" -LogDescription \"Finished collecting activities\"\n>> }\n>> \n12/04/2021 08:50:18:68 > ACTION  > Collecting activities for 2021-04-11T00:00:00 until 2021-04-11T23:59:59\n",
    "output_type": "stream"
}
],
            "execution_count": null
        },
        {
            "cell_type": "markdown",
            "source": [
                "## Disconnect Session from the Power BI Service"
            ],
            "metadata": {
                "azdata_cell_guid": "f8dd64da-65dc-4d7b-9f06-0951e1706bd3"
            }
        },
        {
            "cell_type": "code",
            "source": [
                "#Disconnect PowerBI Service Account\r\n",
                "PrintPsLog -LogStatus \"ACTION\" -LogDescription \"Disconnect Power BI Session\"\r\n",
                "Disconnect-PowerBIServiceAccount\r\n",
                "PrintPsLog -LogStatus \"SUCCESS\" -LogDescription \"Ended Power BI Session\""
            ],
            "metadata": {
                "azdata_cell_guid": "13834e47-d37d-441b-aaca-1b632f879303"
            },
            "outputs": [
{
    "name": "stdout",
    "text": "13/04/2021 10:21:29:06 > ACTION  > Disconnect Power BI Session\n13/04/2021 10:21:29:06 > SUCCESS > Ended Power BI Session\n",
    "output_type": "stream"
}
],
            "execution_count": null
        }
    ]
}